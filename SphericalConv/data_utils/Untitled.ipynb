{
 "cells": [
  {
   "cell_type": "code",
   "execution_count": 3,
   "metadata": {},
   "outputs": [],
   "source": [
    "import numpy as np\n",
    "import open3d as o3d"
   ]
  },
  {
   "cell_type": "code",
   "execution_count": 11,
   "metadata": {},
   "outputs": [],
   "source": [
    "def cvtIcosahedron(in_path, out_path):      #Icosahedron .obj 읽어서 nearest point 6개 찾아서 파일로 저장\n",
    "    textured_mesh = o3d.io.read_triangle_mesh(in_path)\n",
    "    vertices = np.asarray(textured_mesh.vertices)\n",
    "    triangle = np.asarray(textured_mesh.triangles)\n",
    "\n",
    "    edge = [[] for i in range(len(vertices))]\n",
    "\n",
    "    for t in triangle:\n",
    "        for idx in t:\n",
    "            for i in t:\n",
    "                if idx!=i and i not in edge[idx]:\n",
    "                    edge[idx].append(i)\n",
    "\n",
    "    with open(out_path, 'w') as f:\n",
    "        for v in vertices:\n",
    "            f.write('v')\n",
    "            for p in v:\n",
    "                f.write(' %f' % p)\n",
    "            f.write(\"\\n\")\n",
    "\n",
    "        for nnp in edge:\n",
    "            f.write('np')\n",
    "            for p in nnp:\n",
    "                f.write(' %d' % int(p))\n",
    "            f.write(\"\\n\")"
   ]
  },
  {
   "cell_type": "code",
   "execution_count": 1,
   "metadata": {},
   "outputs": [],
   "source": [
    "def cvtIcosahedron(in_path, out_path):      #Icosahedron .obj 읽어서 nearest point 6개 찾아서 파일로 저장\n",
    "    textured_mesh = o3d.io.read_triangle_mesh(in_path)\n",
    "    vertices = np.asarray(textured_mesh.vertices)\n",
    "    triangle = np.asarray(textured_mesh.triangles)\n",
    "\n",
    "    edge = [[] for i in range(len(vertices))]\n",
    "\n",
    "    for t in triangle:\n",
    "        for idx in t:\n",
    "            for i in t:\n",
    "                if idx!=i and i not in edge[idx]:\n",
    "                    edge[idx].append(i)\n",
    "\n",
    "    with open(out_path, 'w') as f:\n",
    "        for v in vertices:\n",
    "            f.write('v')\n",
    "            for p in v:\n",
    "                f.write(' %f' % p)\n",
    "            f.write(\"\\n\")\n",
    "\n",
    "        for t in triangle:\n",
    "            f.write('f')\n",
    "            for idx in t:\n",
    "                f.write(' %d' % idx)\n",
    "            f.write(\"\\n\")\n",
    "\n",
    "        for nnp in edge:\n",
    "            f.write('np')\n",
    "            for p in nnp:\n",
    "                f.write(' %d' % int(p))\n",
    "            f.write(\"\\n\")"
   ]
  },
  {
   "cell_type": "code",
   "execution_count": 4,
   "metadata": {},
   "outputs": [],
   "source": [
    "cvtIcosahedron('./icosahedron1.obj', 'SF1.txt')\n",
    "cvtIcosahedron('./icosahedron2.obj', 'SF2.txt')\n",
    "cvtIcosahedron('./icosahedron3.obj', 'SF3.txt')\n",
    "cvtIcosahedron('./icosahedron4.obj', 'SF4.txt')"
   ]
  },
  {
   "cell_type": "code",
   "execution_count": 9,
   "metadata": {},
   "outputs": [],
   "source": [
    "textured_mesh = o3d.io.read_triangle_mesh('./icosahedron1.obj')"
   ]
  },
  {
   "cell_type": "code",
   "execution_count": 10,
   "metadata": {},
   "outputs": [
    {
     "data": {
      "text/plain": [
       "geometry::TriangleMesh with 42 points and 80 triangles."
      ]
     },
     "execution_count": 10,
     "metadata": {},
     "output_type": "execute_result"
    }
   ],
   "source": [
    "textured_mesh"
   ]
  },
  {
   "cell_type": "code",
   "execution_count": 13,
   "metadata": {},
   "outputs": [],
   "source": [
    "\n",
    "def readIcosahedron(file_path, n_vertices):       #정리해놓은 Icosahedron 파일 읽어서 SF return\n",
    "    vertices = np.zeros((n_vertices, 3))\n",
    "    near_idx = np.zeros((n_vertices, 6)) - 1\n",
    "\n",
    "    cnt_v = 0\n",
    "    cnt_n = 0\n",
    "\n",
    "    with open(file_path, 'r') as f:\n",
    "        lines = f.readlines()\n",
    "        for line in lines:\n",
    "            temp = line.split()\n",
    "\n",
    "            if temp[0] == 'v':\n",
    "                vertices[cnt_v, 0] = temp[1]\n",
    "                vertices[cnt_v, 1] = temp[2]\n",
    "                vertices[cnt_v, 2] = temp[3]\n",
    "                cnt_v += 1\n",
    "\n",
    "            if temp[0] == 'np':\n",
    "                near_idx[cnt_n, 0] = temp[1]\n",
    "                near_idx[cnt_n, 1] = temp[2]\n",
    "                near_idx[cnt_n, 2] = temp[3]\n",
    "                near_idx[cnt_n, 3] = temp[4]\n",
    "                near_idx[cnt_n, 4] = temp[5]\n",
    "                if len(temp)>=7:\n",
    "                    near_idx[cnt_n, 5] = temp[6]\n",
    "\n",
    "                cnt_n += 1\n",
    "\n",
    "    return vertices, near_idx"
   ]
  },
  {
   "cell_type": "code",
   "execution_count": 18,
   "metadata": {
    "scrolled": true
   },
   "outputs": [],
   "source": [
    "SF1 = readIcosahedron('./SF3.txt', 642)"
   ]
  },
  {
   "cell_type": "code",
   "execution_count": 20,
   "metadata": {},
   "outputs": [
    {
     "data": {
      "text/plain": [
       "(642, 3)"
      ]
     },
     "execution_count": 20,
     "metadata": {},
     "output_type": "execute_result"
    }
   ],
   "source": [
    "SF1[0].shape"
   ]
  },
  {
   "cell_type": "code",
   "execution_count": null,
   "metadata": {},
   "outputs": [],
   "source": []
  }
 ],
 "metadata": {
  "kernelspec": {
   "display_name": "Python 3",
   "language": "python",
   "name": "python3"
  },
  "language_info": {
   "codemirror_mode": {
    "name": "ipython",
    "version": 3
   },
   "file_extension": ".py",
   "mimetype": "text/x-python",
   "name": "python",
   "nbconvert_exporter": "python",
   "pygments_lexer": "ipython3",
   "version": "3.7.6"
  }
 },
 "nbformat": 4,
 "nbformat_minor": 4
}
